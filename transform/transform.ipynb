{
 "cells": [
  {
   "cell_type": "code",
   "execution_count": 9,
   "metadata": {},
   "outputs": [],
   "source": [
    "import os\n",
    "from typing import List\n",
    "from pathlib import Path\n",
    "import pandas as pd\n",
    "ROOT_DIR : str = Path(os.getcwd())\n",
    "DATA_DIR : str = ROOT_DIR/\"data\""
   ]
  },
  {
   "cell_type": "code",
   "execution_count": 6,
   "metadata": {},
   "outputs": [],
   "source": [
    "def create_folder(path:str)->None:\n",
    "    if not os.path.exists(path): \n",
    "        os.makedirs(path)\n",
    "def get_subdirectories(parent_directory:str)->List[str]:\n",
    "    subdirectories = []\n",
    "    for item in os.listdir(parent_directory):\n",
    "        item_path = os.path.join(parent_directory, item)\n",
    "        subdirectories.append(item_path)\n",
    "    return subdirectories"
   ]
  },
  {
   "cell_type": "code",
   "execution_count": 10,
   "metadata": {},
   "outputs": [],
   "source": [
    "def load_files()->pd.DataFrame:\n",
    "    list_of_files : List[pd.DataFrame] = []\n",
    "    list_of_dirs = get_subdirectories(DATA_DIR)\n",
    "    for item in list_of_dirs:\n",
    "        list_of_files.append(pd.read_parquet(item))\n",
    "    return pd.concat(list_of_files)"
   ]
  },
  {
   "cell_type": "code",
   "execution_count": 12,
   "metadata": {},
   "outputs": [],
   "source": [
    "df_sih: pd.DataFrame = load_files()"
   ]
  }
 ],
 "metadata": {
  "kernelspec": {
   "display_name": ".venv",
   "language": "python",
   "name": "python3"
  },
  "language_info": {
   "codemirror_mode": {
    "name": "ipython",
    "version": 3
   },
   "file_extension": ".py",
   "mimetype": "text/x-python",
   "name": "python",
   "nbconvert_exporter": "python",
   "pygments_lexer": "ipython3",
   "version": "3.10.13"
  }
 },
 "nbformat": 4,
 "nbformat_minor": 2
}
