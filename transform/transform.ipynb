{
 "cells": [
  {
   "cell_type": "code",
   "execution_count": 1,
   "metadata": {},
   "outputs": [],
   "source": [
    "import os\n",
    "from typing import List\n",
    "from pathlib import Path\n",
    "import pandas as pd\n",
    "ROOT_DIR : str = Path(os.getcwd())\n",
    "DATA_DIR : str = ROOT_DIR/\"data\""
   ]
  },
  {
   "cell_type": "code",
   "execution_count": 2,
   "metadata": {},
   "outputs": [],
   "source": [
    "def create_folder(path:str)->None:\n",
    "    if not os.path.exists(path): \n",
    "        os.makedirs(path)\n",
    "def get_subdirectories(parent_directory:str)->List[str]:\n",
    "    subdirectories = []\n",
    "    for item in os.listdir(parent_directory):\n",
    "        item_path = os.path.join(parent_directory, item)\n",
    "        subdirectories.append(item_path)\n",
    "    return subdirectories"
   ]
  },
  {
   "cell_type": "code",
   "execution_count": 3,
   "metadata": {},
   "outputs": [],
   "source": [
    "def load_files()->pd.DataFrame:\n",
    "    list_of_files : List[pd.DataFrame] = []\n",
    "    list_of_dirs = get_subdirectories(DATA_DIR)\n",
    "    for item in list_of_dirs:\n",
    "        list_of_files.append(pd.read_parquet(item))\n",
    "    return pd.concat(list_of_files)"
   ]
  },
  {
   "cell_type": "code",
   "execution_count": 4,
   "metadata": {},
   "outputs": [],
   "source": [
    "df_sih: pd.DataFrame = load_files()"
   ]
  },
  {
   "cell_type": "code",
   "execution_count": 7,
   "metadata": {},
   "outputs": [
    {
     "name": "stdout",
     "output_type": "stream",
     "text": [
      "\n",
      "Nomes das colunas como uma lista:\n",
      "['UF_ZI', 'ANO_CMPT', 'MES_CMPT', 'ESPEC', 'CGC_HOSP', 'N_AIH', 'IDENT', 'CEP', 'MUNIC_RES', 'NASC', 'SEXO', 'UTI_MES_IN', 'UTI_MES_AN', 'UTI_MES_AL', 'UTI_MES_TO', 'MARCA_UTI', 'UTI_INT_IN', 'UTI_INT_AN', 'UTI_INT_AL', 'UTI_INT_TO', 'DIAR_ACOM', 'QT_DIARIAS', 'PROC_SOLIC', 'PROC_REA', 'VAL_SH', 'VAL_SP', 'VAL_SADT', 'VAL_RN', 'VAL_ACOMP', 'VAL_ORTP', 'VAL_SANGUE', 'VAL_SADTSR', 'VAL_TRANSP', 'VAL_OBSANG', 'VAL_PED1AC', 'VAL_TOT', 'VAL_UTI', 'US_TOT', 'DT_INTER', 'DT_SAIDA', 'DIAG_PRINC', 'DIAG_SECUN', 'COBRANCA', 'NATUREZA', 'NAT_JUR', 'GESTAO', 'RUBRICA', 'IND_VDRL', 'MUNIC_MOV', 'COD_IDADE', 'IDADE', 'DIAS_PERM', 'MORTE', 'NACIONAL', 'NUM_PROC', 'CAR_INT', 'TOT_PT_SP', 'CPF_AUT', 'HOMONIMO', 'NUM_FILHOS', 'INSTRU', 'CID_NOTIF', 'CONTRACEP1', 'CONTRACEP2', 'GESTRISCO', 'INSC_PN', 'SEQ_AIH5', 'CBOR', 'CNAER', 'VINCPREV', 'GESTOR_COD', 'GESTOR_TP', 'GESTOR_CPF', 'GESTOR_DT', 'CNES', 'CNPJ_MANT', 'INFEHOSP', 'CID_ASSO', 'CID_MORTE', 'COMPLEX', 'FINANC', 'FAEC_TP', 'REGCT', 'RACA_COR', 'ETNIA', 'SEQUENCIA', 'REMESSA', 'AUD_JUST', 'SIS_JUST', 'VAL_SH_FED', 'VAL_SP_FED', 'VAL_SH_GES', 'VAL_SP_GES', 'VAL_UCI', 'MARCA_UCI', 'DIAGSEC1', 'DIAGSEC2', 'DIAGSEC3', 'DIAGSEC4', 'DIAGSEC5', 'DIAGSEC6', 'DIAGSEC7', 'DIAGSEC8', 'DIAGSEC9', 'TPDISEC1', 'TPDISEC2', 'TPDISEC3', 'TPDISEC4', 'TPDISEC5', 'TPDISEC6', 'TPDISEC7', 'TPDISEC8', 'TPDISEC9']\n"
     ]
    }
   ],
   "source": [
    "print(\"\\nNomes das colunas como uma lista:\")\n",
    "print(list(df_sih.columns))"
   ]
  },
  {
   "cell_type": "code",
   "execution_count": 31,
   "metadata": {},
   "outputs": [
    {
     "name": "stdout",
     "output_type": "stream",
     "text": [
      "\n",
      "Valores únicos em DURACAO após a conversão:\n",
      "[  1   2   4   3  20   0   9  11   6   8   7  10  27  12   5  14  13  18\n",
      "  16  15  19  31  30  17  21  26  34  40  32  28  37  22  41  25  33  24\n",
      "  29  63  43  23  35  68  39  45  36  44  56  62  48  46  51  66  38  60\n",
      "  74  49  64  42  53  47  65  59  57  50  80  77  81 139  99  54  71 105\n",
      "  52  98 134  86  70  69  73  82  61 107  83  55  87 109 108  95  67  76\n",
      "  97  96  58 104 101 166  72 118  75  79 103  93  92  78  85 102 140 159\n",
      " 115 112 117  90  89  88 125 114 150  91 120 129  94 123 192 181 121 110\n",
      " 106  84 132 111 100 194 116 128 124 185 179]\n"
     ]
    }
   ],
   "source": [
    "print(\"\\nValores únicos em DURACAO:\")\n",
    "print(df_sih['QT_DIARIAS'].unique())"
   ]
  },
  {
   "cell_type": "code",
   "execution_count": 44,
   "metadata": {},
   "outputs": [
    {
     "name": "stdout",
     "output_type": "stream",
     "text": [
      "Valores únicos em DIAG_PRINC:\n",
      "['L989' 'N941' 'D212' ... 'L904' 'N760' 'T175']\n"
     ]
    }
   ],
   "source": [
    "print(\"Valores únicos em DIAG_PRINC:\")\n",
    "print(df_sih['DIAG_PRINC'].unique())"
   ]
  },
  {
   "cell_type": "code",
   "execution_count": 40,
   "metadata": {},
   "outputs": [],
   "source": [
    "mean_hospitalization_by_disease = df_sih.groupby('DIAG_PRINC')['QT_DIARIAS'].mean()"
   ]
  },
  {
   "cell_type": "code",
   "execution_count": 41,
   "metadata": {},
   "outputs": [
    {
     "name": "stdout",
     "output_type": "stream",
     "text": [
      "\n",
      "Tempo médio de internação por tipo de doença (CID-10):\n",
      "DIAG_PRINC\n",
      "A000     3.837838\n",
      "A009     4.250000\n",
      "A010     7.333333\n",
      "A012     2.000000\n",
      "A014     9.500000\n",
      "          ...    \n",
      "Z966    16.500000\n",
      "Z975     2.000000\n",
      "Z981     2.500000\n",
      "Z982     5.000000\n",
      "Z988     8.424242\n",
      "Name: QT_DIARIAS, Length: 5711, dtype: float64\n"
     ]
    }
   ],
   "source": [
    "print(\"\\nTempo médio de internação por tipo de doença (DIAG_PRINC):\")\n",
    "print(mean_hospitalization_by_disease)"
   ]
  }
 ],
 "metadata": {
  "kernelspec": {
   "display_name": ".venv",
   "language": "python",
   "name": "python3"
  },
  "language_info": {
   "codemirror_mode": {
    "name": "ipython",
    "version": 3
   },
   "file_extension": ".py",
   "mimetype": "text/x-python",
   "name": "python",
   "nbconvert_exporter": "python",
   "pygments_lexer": "ipython3",
   "version": "3.11.4"
  }
 },
 "nbformat": 4,
 "nbformat_minor": 2
}
