{
 "cells": [
  {
   "cell_type": "code",
   "execution_count": 13,
   "metadata": {},
   "outputs": [],
   "source": [
    "import os\n",
    "from typing import List\n",
    "from pathlib import Path\n",
    "import pandas as pd\n",
    "ROOT_DIR : str = Path(os.getcwd())\n",
    "DATA_DIR : str = ROOT_DIR/\"data\"\n",
    "SIH_DIR : str = DATA_DIR/\"sih\"\n",
    "IBGE_DATA : str = DATA_DIR/\"tabelas_ibge\""
   ]
  },
  {
   "cell_type": "code",
   "execution_count": 14,
   "metadata": {},
   "outputs": [],
   "source": [
    "def create_folder(path:str)->None:\n",
    "    if not os.path.exists(path): \n",
    "        os.makedirs(path)\n",
    "def get_subdirectories(parent_directory:str)->List[str]:\n",
    "    subdirectories = []\n",
    "    for item in os.listdir(parent_directory):\n",
    "        item_path = os.path.join(parent_directory, item)\n",
    "        subdirectories.append(item_path)\n",
    "    return subdirectories"
   ]
  },
  {
   "cell_type": "code",
   "execution_count": 15,
   "metadata": {},
   "outputs": [],
   "source": [
    "def load_files()->pd.DataFrame:\n",
    "    list_of_files : List[pd.DataFrame] = []\n",
    "    list_of_dirs = get_subdirectories(SIH_DIR)\n",
    "    for item in list_of_dirs:\n",
    "        list_of_files.append(pd.read_parquet(item))\n",
    "    return pd.concat(list_of_files)"
   ]
  },
  {
   "cell_type": "code",
   "execution_count": 16,
   "metadata": {},
   "outputs": [],
   "source": [
    "df_sih: pd.DataFrame = load_files()"
   ]
  },
  {
   "cell_type": "code",
   "execution_count": 17,
   "metadata": {},
   "outputs": [
    {
     "data": {
      "text/plain": [
       "Index(['UF_ZI', 'ANO_CMPT', 'MES_CMPT', 'ESPEC', 'CGC_HOSP', 'N_AIH', 'IDENT',\n",
       "       'CEP', 'MUNIC_RES', 'NASC',\n",
       "       ...\n",
       "       'DIAGSEC9', 'TPDISEC1', 'TPDISEC2', 'TPDISEC3', 'TPDISEC4', 'TPDISEC5',\n",
       "       'TPDISEC6', 'TPDISEC7', 'TPDISEC8', 'TPDISEC9'],\n",
       "      dtype='object', length=113)"
      ]
     },
     "execution_count": 17,
     "metadata": {},
     "output_type": "execute_result"
    }
   ],
   "source": [
    "df_sih.columns"
   ]
  },
  {
   "cell_type": "code",
   "execution_count": 18,
   "metadata": {},
   "outputs": [],
   "source": [
    "# Vai ter que carregar uma tabela com a referência SID-10\n",
    "# Vai ter que carregar uma tabela com o código ibge dos municípios\n",
    "colunas_selecionadas : List[str] = [\n",
    "    'N_AIH',\n",
    "    'UF_ZI',\n",
    "    'ANO_CMPT',\n",
    "    'MES_CMPT',\n",
    "    'DIAG_PRINC',\n",
    "    'IDENT',\n",
    "    'CEP',\n",
    "    'MUNIC_RES',\n",
    "    'VAL_SH',\n",
    "    'NASC',\n",
    "    'SEXO',\n",
    "    'QT_DIARIAS',\n",
    "    'VAL_TOT',\n",
    "    'DIAS_PERM',\n",
    "    'CID_NOTIF'\n",
    "\n",
    "]"
   ]
  },
  {
   "cell_type": "code",
   "execution_count": 19,
   "metadata": {},
   "outputs": [
    {
     "data": {
      "text/html": [
       "<div>\n",
       "<style scoped>\n",
       "    .dataframe tbody tr th:only-of-type {\n",
       "        vertical-align: middle;\n",
       "    }\n",
       "\n",
       "    .dataframe tbody tr th {\n",
       "        vertical-align: top;\n",
       "    }\n",
       "\n",
       "    .dataframe thead th {\n",
       "        text-align: right;\n",
       "    }\n",
       "</style>\n",
       "<table border=\"1\" class=\"dataframe\">\n",
       "  <thead>\n",
       "    <tr style=\"text-align: right;\">\n",
       "      <th></th>\n",
       "      <th>N_AIH</th>\n",
       "      <th>UF_ZI</th>\n",
       "      <th>ANO_CMPT</th>\n",
       "      <th>MES_CMPT</th>\n",
       "      <th>DIAG_PRINC</th>\n",
       "      <th>IDENT</th>\n",
       "      <th>CEP</th>\n",
       "      <th>MUNIC_RES</th>\n",
       "      <th>VAL_SH</th>\n",
       "      <th>NASC</th>\n",
       "      <th>SEXO</th>\n",
       "      <th>QT_DIARIAS</th>\n",
       "      <th>VAL_TOT</th>\n",
       "      <th>DIAS_PERM</th>\n",
       "      <th>CID_NOTIF</th>\n",
       "    </tr>\n",
       "  </thead>\n",
       "  <tbody>\n",
       "    <tr>\n",
       "      <th>0</th>\n",
       "      <td>4315103009712</td>\n",
       "      <td>430000</td>\n",
       "      <td>2015</td>\n",
       "      <td>07</td>\n",
       "      <td>O908</td>\n",
       "      <td>1</td>\n",
       "      <td>95625000</td>\n",
       "      <td>431033</td>\n",
       "      <td>799.18</td>\n",
       "      <td>19830427</td>\n",
       "      <td>3</td>\n",
       "      <td>17</td>\n",
       "      <td>848.68</td>\n",
       "      <td>17</td>\n",
       "      <td></td>\n",
       "    </tr>\n",
       "    <tr>\n",
       "      <th>1</th>\n",
       "      <td>4315103011010</td>\n",
       "      <td>430000</td>\n",
       "      <td>2015</td>\n",
       "      <td>07</td>\n",
       "      <td>O829</td>\n",
       "      <td>1</td>\n",
       "      <td>96270000</td>\n",
       "      <td>431250</td>\n",
       "      <td>411.68</td>\n",
       "      <td>19820828</td>\n",
       "      <td>3</td>\n",
       "      <td>2</td>\n",
       "      <td>678.11</td>\n",
       "      <td>2</td>\n",
       "      <td></td>\n",
       "    </tr>\n",
       "    <tr>\n",
       "      <th>2</th>\n",
       "      <td>4315103012220</td>\n",
       "      <td>430000</td>\n",
       "      <td>2015</td>\n",
       "      <td>07</td>\n",
       "      <td>O459</td>\n",
       "      <td>1</td>\n",
       "      <td>95520000</td>\n",
       "      <td>431350</td>\n",
       "      <td>419.68</td>\n",
       "      <td>19850307</td>\n",
       "      <td>3</td>\n",
       "      <td>3</td>\n",
       "      <td>696.11</td>\n",
       "      <td>3</td>\n",
       "      <td></td>\n",
       "    </tr>\n",
       "    <tr>\n",
       "      <th>3</th>\n",
       "      <td>4315103013749</td>\n",
       "      <td>430000</td>\n",
       "      <td>2015</td>\n",
       "      <td>07</td>\n",
       "      <td>O809</td>\n",
       "      <td>1</td>\n",
       "      <td>95520000</td>\n",
       "      <td>431350</td>\n",
       "      <td>283.60</td>\n",
       "      <td>19981010</td>\n",
       "      <td>3</td>\n",
       "      <td>2</td>\n",
       "      <td>524.60</td>\n",
       "      <td>2</td>\n",
       "      <td></td>\n",
       "    </tr>\n",
       "    <tr>\n",
       "      <th>4</th>\n",
       "      <td>4315103019656</td>\n",
       "      <td>430000</td>\n",
       "      <td>2015</td>\n",
       "      <td>07</td>\n",
       "      <td>Z302</td>\n",
       "      <td>1</td>\n",
       "      <td>95560000</td>\n",
       "      <td>432150</td>\n",
       "      <td>411.68</td>\n",
       "      <td>19871006</td>\n",
       "      <td>3</td>\n",
       "      <td>2</td>\n",
       "      <td>688.11</td>\n",
       "      <td>2</td>\n",
       "      <td>Z302</td>\n",
       "    </tr>\n",
       "  </tbody>\n",
       "</table>\n",
       "</div>"
      ],
      "text/plain": [
       "           N_AIH   UF_ZI ANO_CMPT MES_CMPT DIAG_PRINC IDENT       CEP  \\\n",
       "0  4315103009712  430000     2015       07       O908     1  95625000   \n",
       "1  4315103011010  430000     2015       07       O829     1  96270000   \n",
       "2  4315103012220  430000     2015       07       O459     1  95520000   \n",
       "3  4315103013749  430000     2015       07       O809     1  95520000   \n",
       "4  4315103019656  430000     2015       07       Z302     1  95560000   \n",
       "\n",
       "  MUNIC_RES         VAL_SH      NASC SEXO QT_DIARIAS         VAL_TOT  \\\n",
       "0    431033         799.18  19830427    3         17          848.68   \n",
       "1    431250         411.68  19820828    3          2          678.11   \n",
       "2    431350         419.68  19850307    3          3          696.11   \n",
       "3    431350         283.60  19981010    3          2          524.60   \n",
       "4    432150         411.68  19871006    3          2          688.11   \n",
       "\n",
       "  DIAS_PERM CID_NOTIF  \n",
       "0        17            \n",
       "1         2            \n",
       "2         3            \n",
       "3         2            \n",
       "4         2      Z302  "
      ]
     },
     "execution_count": 19,
     "metadata": {},
     "output_type": "execute_result"
    }
   ],
   "source": [
    "# Seleciona colunas\n",
    "df_sih_sel = df_sih[colunas_selecionadas]\n",
    "df_sih_sel.head()"
   ]
  },
  {
   "cell_type": "code",
   "execution_count": 20,
   "metadata": {},
   "outputs": [
    {
     "data": {
      "text/html": [
       "<div>\n",
       "<style scoped>\n",
       "    .dataframe tbody tr th:only-of-type {\n",
       "        vertical-align: middle;\n",
       "    }\n",
       "\n",
       "    .dataframe tbody tr th {\n",
       "        vertical-align: top;\n",
       "    }\n",
       "\n",
       "    .dataframe thead th {\n",
       "        text-align: right;\n",
       "    }\n",
       "</style>\n",
       "<table border=\"1\" class=\"dataframe\">\n",
       "  <thead>\n",
       "    <tr style=\"text-align: right;\">\n",
       "      <th></th>\n",
       "      <th>ANO_CMPT</th>\n",
       "      <th>MES_CMPT</th>\n",
       "      <th>TIME_KEY</th>\n",
       "    </tr>\n",
       "  </thead>\n",
       "  <tbody>\n",
       "    <tr>\n",
       "      <th>0</th>\n",
       "      <td>2015</td>\n",
       "      <td>01</td>\n",
       "      <td>2015|01</td>\n",
       "    </tr>\n",
       "    <tr>\n",
       "      <th>0</th>\n",
       "      <td>2015</td>\n",
       "      <td>02</td>\n",
       "      <td>2015|02</td>\n",
       "    </tr>\n",
       "    <tr>\n",
       "      <th>0</th>\n",
       "      <td>2015</td>\n",
       "      <td>03</td>\n",
       "      <td>2015|03</td>\n",
       "    </tr>\n",
       "    <tr>\n",
       "      <th>0</th>\n",
       "      <td>2015</td>\n",
       "      <td>04</td>\n",
       "      <td>2015|04</td>\n",
       "    </tr>\n",
       "    <tr>\n",
       "      <th>0</th>\n",
       "      <td>2015</td>\n",
       "      <td>05</td>\n",
       "      <td>2015|05</td>\n",
       "    </tr>\n",
       "  </tbody>\n",
       "</table>\n",
       "</div>"
      ],
      "text/plain": [
       "  ANO_CMPT MES_CMPT TIME_KEY\n",
       "0     2015       01  2015|01\n",
       "0     2015       02  2015|02\n",
       "0     2015       03  2015|03\n",
       "0     2015       04  2015|04\n",
       "0     2015       05  2015|05"
      ]
     },
     "execution_count": 20,
     "metadata": {},
     "output_type": "execute_result"
    }
   ],
   "source": [
    "# Cria tabela time_table - agrupando por ano e mês\n",
    "def create_time_table(df:pd.DataFrame)->pd.DataFrame:\n",
    "    selected_columns : List[str] = ['ANO_CMPT','MES_CMPT']\n",
    "    df_time_table :pd.DataFrame = df[selected_columns]\n",
    "    df_time_table = df_time_table.drop_duplicates(subset=selected_columns)\n",
    "    return df_time_table.sort_values(by=selected_columns)\n",
    "def create_time_table_key(df:pd.DataFrame)->pd.DataFrame:\n",
    "    df['TIME_KEY'] = df['ANO_CMPT'] + '|' + df['MES_CMPT']\n",
    "    return df\n",
    "df_time_table = create_time_table(df=df_sih_sel)\n",
    "df_time_table = create_time_table_key(df_time_table)\n",
    "df_time_table.head()"
   ]
  },
  {
   "cell_type": "code",
   "execution_count": 21,
   "metadata": {},
   "outputs": [
    {
     "data": {
      "text/html": [
       "<div>\n",
       "<style scoped>\n",
       "    .dataframe tbody tr th:only-of-type {\n",
       "        vertical-align: middle;\n",
       "    }\n",
       "\n",
       "    .dataframe tbody tr th {\n",
       "        vertical-align: top;\n",
       "    }\n",
       "\n",
       "    .dataframe thead th {\n",
       "        text-align: right;\n",
       "    }\n",
       "</style>\n",
       "<table border=\"1\" class=\"dataframe\">\n",
       "  <thead>\n",
       "    <tr style=\"text-align: right;\">\n",
       "      <th></th>\n",
       "      <th>ID_PACIENTE</th>\n",
       "      <th>NASC</th>\n",
       "      <th>SEXO</th>\n",
       "    </tr>\n",
       "  </thead>\n",
       "  <tbody>\n",
       "    <tr>\n",
       "      <th>0</th>\n",
       "      <td>4315103009712</td>\n",
       "      <td>27/04/1983</td>\n",
       "      <td>3</td>\n",
       "    </tr>\n",
       "    <tr>\n",
       "      <th>1</th>\n",
       "      <td>4315103011010</td>\n",
       "      <td>28/08/1982</td>\n",
       "      <td>3</td>\n",
       "    </tr>\n",
       "    <tr>\n",
       "      <th>2</th>\n",
       "      <td>4315103012220</td>\n",
       "      <td>07/03/1985</td>\n",
       "      <td>3</td>\n",
       "    </tr>\n",
       "    <tr>\n",
       "      <th>3</th>\n",
       "      <td>4315103013749</td>\n",
       "      <td>10/10/1998</td>\n",
       "      <td>3</td>\n",
       "    </tr>\n",
       "    <tr>\n",
       "      <th>4</th>\n",
       "      <td>4315103019656</td>\n",
       "      <td>06/10/1987</td>\n",
       "      <td>3</td>\n",
       "    </tr>\n",
       "  </tbody>\n",
       "</table>\n",
       "</div>"
      ],
      "text/plain": [
       "     ID_PACIENTE        NASC SEXO\n",
       "0  4315103009712  27/04/1983    3\n",
       "1  4315103011010  28/08/1982    3\n",
       "2  4315103012220  07/03/1985    3\n",
       "3  4315103013749  10/10/1998    3\n",
       "4  4315103019656  06/10/1987    3"
      ]
     },
     "execution_count": 21,
     "metadata": {},
     "output_type": "execute_result"
    }
   ],
   "source": [
    "def create_paciente_table(df:pd.DataFrame)->pd.DataFrame:\n",
    "    df_paciente_table = df[['N_AIH','NASC','SEXO']]\n",
    "    df_paciente_table = df_paciente_table.drop_duplicates()\n",
    "    df_paciente_table = df_paciente_table.rename(columns={'N_AIH':'ID_PACIENTE'})\n",
    "    return df_paciente_table\n",
    "def convert_date_to_datetime(df:pd.DataFrame)->pd.DataFrame:\n",
    "    df['NASC'] = pd.to_datetime(df['NASC'], format='%Y%m%d')\n",
    "    df['NASC'] = df['NASC'].dt.strftime('%d/%m/%Y')\n",
    "    return df\n",
    "df_paciente_table = create_paciente_table(df_sih_sel)\n",
    "df_paciente_table = convert_date_to_datetime(df=df_paciente_table)\n",
    "df_paciente_table.head()"
   ]
  },
  {
   "cell_type": "code",
   "execution_count": 22,
   "metadata": {},
   "outputs": [],
   "source": [
    "def create_municipios_table()->pd.DataFrame:\n",
    "    df_municipios :pd.DataFrame = pd.read_csv(filepath_or_buffer=IBGE_DATA/'municipios.csv', sep=',')\n",
    "    return df_municipios.rename(columns={'COD':'COD_IBGE', 'COD UF':'COD_UF'})\n",
    "def create_estados_table()->pd.DataFrame:\n",
    "    df_estados:pd.DataFrame = pd.read_csv(filepath_or_buffer=IBGE_DATA/'estados.csv',sep=',')\n",
    "    return df_estados.rename(columns={'COD':'COD_UF'})\n",
    "df_municipios:pd.DataFrame = create_municipios_table()\n",
    "df_estados:pd.DataFrame = create_estados_table()"
   ]
  },
  {
   "cell_type": "code",
   "execution_count": 24,
   "metadata": {},
   "outputs": [
    {
     "data": {
      "text/plain": [
       "Index(['N_AIH', 'UF_ZI', 'ANO_CMPT', 'MES_CMPT', 'DIAG_PRINC', 'IDENT', 'CEP',\n",
       "       'MUNIC_RES', 'VAL_SH', 'NASC', 'SEXO', 'QT_DIARIAS', 'VAL_TOT',\n",
       "       'DIAS_PERM', 'CID_NOTIF'],\n",
       "      dtype='object')"
      ]
     },
     "execution_count": 24,
     "metadata": {},
     "output_type": "execute_result"
    }
   ],
   "source": [
    "# Cria time_key\n",
    "df_sih_sel['TIME_KEY'] = df_sih_sel['ANO_CMPT'] + '|' + df_sih_sel['MES_CMPT']"
   ]
  },
  {
   "cell_type": "code",
   "execution_count": 25,
   "metadata": {},
   "outputs": [
    {
     "data": {
      "text/plain": [
       "array(['    ', 'Z302', 'O149', 'O450', 'O150', 'O992', 'O990'],\n",
       "      dtype=object)"
      ]
     },
     "execution_count": 25,
     "metadata": {},
     "output_type": "execute_result"
    }
   ],
   "source": [
    "df_sih_sel['CID_NOTIF'].unique()"
   ]
  }
 ],
 "metadata": {
  "kernelspec": {
   "display_name": ".venv",
   "language": "python",
   "name": "python3"
  },
  "language_info": {
   "codemirror_mode": {
    "name": "ipython",
    "version": 3
   },
   "file_extension": ".py",
   "mimetype": "text/x-python",
   "name": "python",
   "nbconvert_exporter": "python",
   "pygments_lexer": "ipython3",
   "version": "3.10.13"
  }
 },
 "nbformat": 4,
 "nbformat_minor": 2
}
